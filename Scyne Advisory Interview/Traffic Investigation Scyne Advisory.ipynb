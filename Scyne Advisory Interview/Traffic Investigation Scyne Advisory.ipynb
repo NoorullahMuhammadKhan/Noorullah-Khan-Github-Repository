{
 "cells": [
  {
   "cell_type": "markdown",
   "id": "f985fa8c",
   "metadata": {},
   "source": [
    "# Scyne Advisory\n"
   ]
  },
  {
   "cell_type": "markdown",
   "id": "ac099765",
   "metadata": {},
   "source": []
  }
 ],
 "metadata": {
  "language_info": {
   "name": "python"
  }
 },
 "nbformat": 4,
 "nbformat_minor": 5
}
