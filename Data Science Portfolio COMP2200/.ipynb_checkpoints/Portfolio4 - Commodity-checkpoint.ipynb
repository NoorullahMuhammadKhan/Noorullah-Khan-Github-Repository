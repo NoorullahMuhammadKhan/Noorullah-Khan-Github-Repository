{
 "cells": [
  {
   "cell_type": "markdown",
   "metadata": {},
   "source": [
    "# Portfolio 4\n",
    "### Noorullah Khan\n",
    "### 47197404\n",
    "\n"
   ]
  },
  {
   "cell_type": "markdown",
   "metadata": {},
   "source": [
    "The core requirements of the portfolio 4 are:\n",
    "\n",
    "(2 marks) Propose well-defined questions or purposes to the analysis\n",
    "(2 marks) It should involve some data preparation and exploration. (Suggestion: The source address of the dataset can be provided to make our marking easy. Alternatively.  you can upload the dataset or a sampled subset to your Github repo.)\n",
    "(2 marks) You will make use of at least one or more analysis/prediction techniques learned from the unit since week 7.\n",
    "(2 marks) Develop some kind of visualisation of the data or results"
   ]
  },
  {
   "cell_type": "markdown",
   "metadata": {},
   "source": [
    "Data source chosen is price of commodoties over time"
   ]
  },
  {
   "cell_type": "markdown",
   "metadata": {},
   "source": [
    "### Uploading data and seeing basic figures"
   ]
  },
  {
   "cell_type": "code",
   "execution_count": null,
   "metadata": {},
   "outputs": [],
   "source": []
  }
 ],
 "metadata": {
  "kernelspec": {
   "display_name": "Python 3 (ipykernel)",
   "language": "python",
   "name": "python3"
  },
  "language_info": {
   "codemirror_mode": {
    "name": "ipython",
    "version": 3
   },
   "file_extension": ".py",
   "mimetype": "text/x-python",
   "name": "python",
   "nbconvert_exporter": "python",
   "pygments_lexer": "ipython3",
   "version": "3.9.13"
  }
 },
 "nbformat": 4,
 "nbformat_minor": 2
}
